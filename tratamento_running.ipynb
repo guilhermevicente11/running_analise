{
  "cells": [
    {
      "cell_type": "markdown",
      "metadata": {
        "colab_type": "text",
        "id": "view-in-github"
      },
      "source": [
        "<a href=\"https://colab.research.google.com/github/guilhermevicente11/running_analise/blob/main/dataset_running.ipynb\" target=\"_parent\"><img src=\"https://colab.research.google.com/assets/colab-badge.svg\" alt=\"Open In Colab\"/></a>"
      ]
    },
    {
      "cell_type": "code",
      "execution_count": 227,
      "metadata": {},
      "outputs": [],
      "source": [
        "#tratamento\n",
        "#a maioria das colunas estão como objeto, ajeita-las\n",
        "#tratar as colunas de date e time \n",
        "#dividr a coluna de data em 4 colunas: dia,mes,ano e hora\n",
        "#remover virgulas das colunas: calorias,eleven gain e loss gain\n",
        "\n",
        "\n",
        "\n",
        "\n",
        "#definir uma série temporal de corrida por ano(e avaliar a cada mês)\n",
        "#definir o total de km que ele corre por ano\n",
        "#até que mês ele correu em 2020? temos pandemia. como foi o desempenho dele nesse ano.\n",
        "#quantas calorias ele queimou no total por ano"
      ]
    },
    {
      "cell_type": "code",
      "execution_count": 228,
      "metadata": {
        "id": "uUA5_xrhUj5e"
      },
      "outputs": [],
      "source": [
        "import pandas as pd\n",
        "import numpy as np\n",
        "import seaborn as sns\n",
        "import matplotlib.pyplot as plt\n",
        "import datetime as dt\n"
      ]
    },
    {
      "cell_type": "code",
      "execution_count": 240,
      "metadata": {
        "colab": {
          "base_uri": "https://localhost:8080/",
          "height": 183
        },
        "id": "dUKh7tdgTftY",
        "outputId": "5ea71ea4-b40c-4cc6-d819-5cd8a80b263d"
      },
      "outputs": [
        {
          "data": {
            "text/html": [
              "<div>\n",
              "<style scoped>\n",
              "    .dataframe tbody tr th:only-of-type {\n",
              "        vertical-align: middle;\n",
              "    }\n",
              "\n",
              "    .dataframe tbody tr th {\n",
              "        vertical-align: top;\n",
              "    }\n",
              "\n",
              "    .dataframe thead th {\n",
              "        text-align: right;\n",
              "    }\n",
              "</style>\n",
              "<table border=\"1\" class=\"dataframe\">\n",
              "  <thead>\n",
              "    <tr style=\"text-align: right;\">\n",
              "      <th></th>\n",
              "      <th>Activity Type</th>\n",
              "      <th>Date</th>\n",
              "      <th>Title</th>\n",
              "      <th>Distance</th>\n",
              "      <th>Calories</th>\n",
              "      <th>Time</th>\n",
              "      <th>Avg HR</th>\n",
              "      <th>Max HR</th>\n",
              "      <th>Avg Run Cadence</th>\n",
              "      <th>Max Run Cadence</th>\n",
              "      <th>Avg Pace</th>\n",
              "      <th>Best Pace</th>\n",
              "      <th>Elev Gain</th>\n",
              "      <th>Elev Loss</th>\n",
              "      <th>Avg Stride Length</th>\n",
              "      <th>Best Lap Time</th>\n",
              "      <th>Number of Laps</th>\n",
              "    </tr>\n",
              "  </thead>\n",
              "  <tbody>\n",
              "    <tr>\n",
              "      <th>0</th>\n",
              "      <td>Running</td>\n",
              "      <td>7/15/20 9:41</td>\n",
              "      <td>Cherry Hill Running</td>\n",
              "      <td>6.00</td>\n",
              "      <td>530</td>\n",
              "      <td>0:43:55</td>\n",
              "      <td>141</td>\n",
              "      <td>160</td>\n",
              "      <td>176</td>\n",
              "      <td>182</td>\n",
              "      <td>7:19</td>\n",
              "      <td>6:20</td>\n",
              "      <td>169</td>\n",
              "      <td>173</td>\n",
              "      <td>1.26</td>\n",
              "      <td>00:02.3</td>\n",
              "      <td>7</td>\n",
              "    </tr>\n",
              "    <tr>\n",
              "      <th>1</th>\n",
              "      <td>Running</td>\n",
              "      <td>7/14/20 17:45</td>\n",
              "      <td>Cherry Hill Running</td>\n",
              "      <td>6.50</td>\n",
              "      <td>587</td>\n",
              "      <td>0:47:04</td>\n",
              "      <td>144</td>\n",
              "      <td>160</td>\n",
              "      <td>172</td>\n",
              "      <td>182</td>\n",
              "      <td>7:14</td>\n",
              "      <td>6:35</td>\n",
              "      <td>183</td>\n",
              "      <td>187</td>\n",
              "      <td>1.29</td>\n",
              "      <td>03:32.7</td>\n",
              "      <td>7</td>\n",
              "    </tr>\n",
              "    <tr>\n",
              "      <th>2</th>\n",
              "      <td>Running</td>\n",
              "      <td>7/13/20 18:57</td>\n",
              "      <td>Cherry Hill Running</td>\n",
              "      <td>5.01</td>\n",
              "      <td>392</td>\n",
              "      <td>0:40:29</td>\n",
              "      <td>128</td>\n",
              "      <td>151</td>\n",
              "      <td>170</td>\n",
              "      <td>180</td>\n",
              "      <td>8:05</td>\n",
              "      <td>5:49</td>\n",
              "      <td>124</td>\n",
              "      <td>124</td>\n",
              "      <td>1.17</td>\n",
              "      <td>00:04.1</td>\n",
              "      <td>6</td>\n",
              "    </tr>\n",
              "    <tr>\n",
              "      <th>3</th>\n",
              "      <td>Running</td>\n",
              "      <td>7/12/20 18:44</td>\n",
              "      <td>Cherry Hill Running</td>\n",
              "      <td>7.01</td>\n",
              "      <td>633</td>\n",
              "      <td>0:52:55</td>\n",
              "      <td>142</td>\n",
              "      <td>157</td>\n",
              "      <td>172</td>\n",
              "      <td>180</td>\n",
              "      <td>7:33</td>\n",
              "      <td>5:00</td>\n",
              "      <td>215</td>\n",
              "      <td>219</td>\n",
              "      <td>1.24</td>\n",
              "      <td>00:05.1</td>\n",
              "      <td>8</td>\n",
              "    </tr>\n",
              "    <tr>\n",
              "      <th>4</th>\n",
              "      <td>Running</td>\n",
              "      <td>7/11/20 19:35</td>\n",
              "      <td>Cherry Hill Running</td>\n",
              "      <td>5.19</td>\n",
              "      <td>419</td>\n",
              "      <td>0:41:35</td>\n",
              "      <td>129</td>\n",
              "      <td>143</td>\n",
              "      <td>170</td>\n",
              "      <td>178</td>\n",
              "      <td>8:01</td>\n",
              "      <td>6:48</td>\n",
              "      <td>76</td>\n",
              "      <td>80</td>\n",
              "      <td>1.18</td>\n",
              "      <td>01:27.1</td>\n",
              "      <td>6</td>\n",
              "    </tr>\n",
              "  </tbody>\n",
              "</table>\n",
              "</div>"
            ],
            "text/plain": [
              "  Activity Type           Date                Title  Distance Calories  \\\n",
              "0       Running   7/15/20 9:41  Cherry Hill Running      6.00      530   \n",
              "1       Running  7/14/20 17:45  Cherry Hill Running      6.50      587   \n",
              "2       Running  7/13/20 18:57  Cherry Hill Running      5.01      392   \n",
              "3       Running  7/12/20 18:44  Cherry Hill Running      7.01      633   \n",
              "4       Running  7/11/20 19:35  Cherry Hill Running      5.19      419   \n",
              "\n",
              "      Time Avg HR Max HR Avg Run Cadence Max Run Cadence Avg Pace Best Pace  \\\n",
              "0  0:43:55    141    160             176             182     7:19      6:20   \n",
              "1  0:47:04    144    160             172             182     7:14      6:35   \n",
              "2  0:40:29    128    151             170             180     8:05      5:49   \n",
              "3  0:52:55    142    157             172             180     7:33      5:00   \n",
              "4  0:41:35    129    143             170             178     8:01      6:48   \n",
              "\n",
              "  Elev Gain Elev Loss  Avg Stride Length Best Lap Time  Number of Laps  \n",
              "0       169       173               1.26       00:02.3               7  \n",
              "1       183       187               1.29       03:32.7               7  \n",
              "2       124       124               1.17       00:04.1               6  \n",
              "3       215       219               1.24       00:05.1               8  \n",
              "4        76        80               1.18       01:27.1               6  "
            ]
          },
          "execution_count": 240,
          "metadata": {},
          "output_type": "execute_result"
        }
      ],
      "source": [
        "df = pd.read_csv('https://raw.githubusercontent.com/guilhermevicente11/running_analise/main/activity_log.csv', thousands=',')\n",
        "df.head(5)\n"
      ]
    },
    {
      "cell_type": "code",
      "execution_count": 246,
      "metadata": {},
      "outputs": [],
      "source": [
        "#transformar -- para zero\n",
        "df = df.replace('--','0')"
      ]
    },
    {
      "cell_type": "code",
      "execution_count": 249,
      "metadata": {},
      "outputs": [],
      "source": [
        "#Transformar a coluna em numérica\n",
        "df['Avg HR'] = pd.to_numeric(df['Avg HR'])\n",
        "df['Max HR'] = pd.to_numeric(df['Max HR'])\n",
        "df['Avg Run Cadence'] = pd.to_numeric(df['Avg Run Cadence'])\n",
        "df['Max Run Cadence'] = pd.to_numeric(df['Max Run Cadence'])"
      ]
    },
    {
      "cell_type": "code",
      "execution_count": 263,
      "metadata": {},
      "outputs": [],
      "source": [
        "#Transformar a coluna de data em classe de data\n",
        "df['Date'] = pd.to_datetime(df['Date'])\n"
      ]
    },
    {
      "cell_type": "code",
      "execution_count": 259,
      "metadata": {},
      "outputs": [],
      "source": [
        "#transformando calorias para float OK !! Já conferi que está tudo certinho\n",
        "df['Calories'] = df['Calories'].str.replace(',', '').astype(float)"
      ]
    },
    {
      "cell_type": "code",
      "execution_count": null,
      "metadata": {},
      "outputs": [],
      "source": [
        "#Conferindo calorias\n",
        "df.query('Calories > 1000')"
      ]
    },
    {
      "cell_type": "code",
      "execution_count": 247,
      "metadata": {},
      "outputs": [],
      "source": [
        "#eliminando as virgulas de elev gain e transformando em int\n",
        "df['Elev Gain'] = df['Elev Gain'].str.replace(',', '').astype(int)"
      ]
    },
    {
      "cell_type": "code",
      "execution_count": null,
      "metadata": {},
      "outputs": [],
      "source": [
        "df[(df['Elev Gain'] < 169)]"
      ]
    },
    {
      "cell_type": "code",
      "execution_count": null,
      "metadata": {},
      "outputs": [],
      "source": [
        "#criar filtragem por ano\n",
        "ano2020 = df['Date'].dt.year == 2020 \n",
        "df[ano2020]"
      ]
    },
    {
      "cell_type": "code",
      "execution_count": 261,
      "metadata": {},
      "outputs": [],
      "source": [
        "df['Time'] = pd.to_datetime(df['Time']).dt.hour * 60 + pd.to_datetime(df['Time']).dt.minute\n"
      ]
    },
    {
      "cell_type": "code",
      "execution_count": null,
      "metadata": {},
      "outputs": [],
      "source": [
        "df['Best Lap Time'] = pd.to_datetime(df['Best Lap Time'])"
      ]
    },
    {
      "cell_type": "code",
      "execution_count": 269,
      "metadata": {},
      "outputs": [
        {
          "data": {
            "text/html": [
              "<div>\n",
              "<style scoped>\n",
              "    .dataframe tbody tr th:only-of-type {\n",
              "        vertical-align: middle;\n",
              "    }\n",
              "\n",
              "    .dataframe tbody tr th {\n",
              "        vertical-align: top;\n",
              "    }\n",
              "\n",
              "    .dataframe thead th {\n",
              "        text-align: right;\n",
              "    }\n",
              "</style>\n",
              "<table border=\"1\" class=\"dataframe\">\n",
              "  <thead>\n",
              "    <tr style=\"text-align: right;\">\n",
              "      <th></th>\n",
              "      <th>Activity Type</th>\n",
              "      <th>Date</th>\n",
              "      <th>Title</th>\n",
              "      <th>Distance</th>\n",
              "      <th>Calories</th>\n",
              "      <th>Time</th>\n",
              "      <th>Avg HR</th>\n",
              "      <th>Max HR</th>\n",
              "      <th>Avg Run Cadence</th>\n",
              "      <th>Max Run Cadence</th>\n",
              "      <th>Avg Pace</th>\n",
              "      <th>Best Pace</th>\n",
              "      <th>Elev Gain</th>\n",
              "      <th>Elev Loss</th>\n",
              "      <th>Avg Stride Length</th>\n",
              "      <th>Best Lap Time</th>\n",
              "      <th>Number of Laps</th>\n",
              "    </tr>\n",
              "  </thead>\n",
              "  <tbody>\n",
              "    <tr>\n",
              "      <th>0</th>\n",
              "      <td>Running</td>\n",
              "      <td>2020-07-15 09:41:00</td>\n",
              "      <td>Cherry Hill Running</td>\n",
              "      <td>6.00</td>\n",
              "      <td>530.0</td>\n",
              "      <td>43</td>\n",
              "      <td>141</td>\n",
              "      <td>160</td>\n",
              "      <td>176</td>\n",
              "      <td>182</td>\n",
              "      <td>7:19</td>\n",
              "      <td>6:20</td>\n",
              "      <td>169</td>\n",
              "      <td>173</td>\n",
              "      <td>1.26</td>\n",
              "      <td>2022-12-08 00:02:18</td>\n",
              "      <td>7</td>\n",
              "    </tr>\n",
              "    <tr>\n",
              "      <th>1</th>\n",
              "      <td>Running</td>\n",
              "      <td>2020-07-14 17:45:00</td>\n",
              "      <td>Cherry Hill Running</td>\n",
              "      <td>6.50</td>\n",
              "      <td>587.0</td>\n",
              "      <td>47</td>\n",
              "      <td>144</td>\n",
              "      <td>160</td>\n",
              "      <td>172</td>\n",
              "      <td>182</td>\n",
              "      <td>7:14</td>\n",
              "      <td>6:35</td>\n",
              "      <td>183</td>\n",
              "      <td>187</td>\n",
              "      <td>1.29</td>\n",
              "      <td>2022-12-08 03:32:42</td>\n",
              "      <td>7</td>\n",
              "    </tr>\n",
              "    <tr>\n",
              "      <th>2</th>\n",
              "      <td>Running</td>\n",
              "      <td>2020-07-13 18:57:00</td>\n",
              "      <td>Cherry Hill Running</td>\n",
              "      <td>5.01</td>\n",
              "      <td>392.0</td>\n",
              "      <td>40</td>\n",
              "      <td>128</td>\n",
              "      <td>151</td>\n",
              "      <td>170</td>\n",
              "      <td>180</td>\n",
              "      <td>8:05</td>\n",
              "      <td>5:49</td>\n",
              "      <td>124</td>\n",
              "      <td>124</td>\n",
              "      <td>1.17</td>\n",
              "      <td>2022-12-08 00:04:06</td>\n",
              "      <td>6</td>\n",
              "    </tr>\n",
              "    <tr>\n",
              "      <th>3</th>\n",
              "      <td>Running</td>\n",
              "      <td>2020-07-12 18:44:00</td>\n",
              "      <td>Cherry Hill Running</td>\n",
              "      <td>7.01</td>\n",
              "      <td>633.0</td>\n",
              "      <td>52</td>\n",
              "      <td>142</td>\n",
              "      <td>157</td>\n",
              "      <td>172</td>\n",
              "      <td>180</td>\n",
              "      <td>7:33</td>\n",
              "      <td>5:00</td>\n",
              "      <td>215</td>\n",
              "      <td>219</td>\n",
              "      <td>1.24</td>\n",
              "      <td>2022-12-08 00:05:06</td>\n",
              "      <td>8</td>\n",
              "    </tr>\n",
              "    <tr>\n",
              "      <th>4</th>\n",
              "      <td>Running</td>\n",
              "      <td>2020-07-11 19:35:00</td>\n",
              "      <td>Cherry Hill Running</td>\n",
              "      <td>5.19</td>\n",
              "      <td>419.0</td>\n",
              "      <td>41</td>\n",
              "      <td>129</td>\n",
              "      <td>143</td>\n",
              "      <td>170</td>\n",
              "      <td>178</td>\n",
              "      <td>8:01</td>\n",
              "      <td>6:48</td>\n",
              "      <td>76</td>\n",
              "      <td>80</td>\n",
              "      <td>1.18</td>\n",
              "      <td>2022-12-08 01:27:06</td>\n",
              "      <td>6</td>\n",
              "    </tr>\n",
              "  </tbody>\n",
              "</table>\n",
              "</div>"
            ],
            "text/plain": [
              "  Activity Type                Date                Title  Distance  Calories  \\\n",
              "0       Running 2020-07-15 09:41:00  Cherry Hill Running      6.00     530.0   \n",
              "1       Running 2020-07-14 17:45:00  Cherry Hill Running      6.50     587.0   \n",
              "2       Running 2020-07-13 18:57:00  Cherry Hill Running      5.01     392.0   \n",
              "3       Running 2020-07-12 18:44:00  Cherry Hill Running      7.01     633.0   \n",
              "4       Running 2020-07-11 19:35:00  Cherry Hill Running      5.19     419.0   \n",
              "\n",
              "   Time  Avg HR  Max HR  Avg Run Cadence  Max Run Cadence Avg Pace Best Pace  \\\n",
              "0    43     141     160              176              182     7:19      6:20   \n",
              "1    47     144     160              172              182     7:14      6:35   \n",
              "2    40     128     151              170              180     8:05      5:49   \n",
              "3    52     142     157              172              180     7:33      5:00   \n",
              "4    41     129     143              170              178     8:01      6:48   \n",
              "\n",
              "   Elev Gain  Elev Loss  Avg Stride Length       Best Lap Time  Number of Laps  \n",
              "0        169        173               1.26 2022-12-08 00:02:18               7  \n",
              "1        183        187               1.29 2022-12-08 03:32:42               7  \n",
              "2        124        124               1.17 2022-12-08 00:04:06               6  \n",
              "3        215        219               1.24 2022-12-08 00:05:06               8  \n",
              "4         76         80               1.18 2022-12-08 01:27:06               6  "
            ]
          },
          "execution_count": 269,
          "metadata": {},
          "output_type": "execute_result"
        }
      ],
      "source": [
        "df.head(5)"
      ]
    },
    {
      "cell_type": "code",
      "execution_count": null,
      "metadata": {},
      "outputs": [],
      "source": [
        "df.info()"
      ]
    },
    {
      "cell_type": "code",
      "execution_count": 251,
      "metadata": {},
      "outputs": [],
      "source": [
        "df['Elev Loss'] = df['Elev Loss'].str.replace(',', '').astype(int)"
      ]
    },
    {
      "cell_type": "code",
      "execution_count": null,
      "metadata": {},
      "outputs": [],
      "source": [
        "df[(df['Elev Loss'] < 200)]"
      ]
    },
    {
      "cell_type": "code",
      "execution_count": 271,
      "metadata": {},
      "outputs": [],
      "source": [
        "#removendo colunas desnecessárias para a análise\n",
        "df.drop(columns = ['Best Lap Time','Number of Laps'], inplace = True)"
      ]
    },
    {
      "cell_type": "code",
      "execution_count": 273,
      "metadata": {},
      "outputs": [
        {
          "name": "stdout",
          "output_type": "stream",
          "text": [
            "<class 'pandas.core.frame.DataFrame'>\n",
            "RangeIndex: 689 entries, 0 to 688\n",
            "Data columns (total 15 columns):\n",
            " #   Column             Non-Null Count  Dtype         \n",
            "---  ------             --------------  -----         \n",
            " 0   Activity Type      689 non-null    object        \n",
            " 1   Date               689 non-null    datetime64[ns]\n",
            " 2   Title              689 non-null    object        \n",
            " 3   Distance           689 non-null    float64       \n",
            " 4   Calories           689 non-null    float64       \n",
            " 5   Time               689 non-null    int64         \n",
            " 6   Avg HR             689 non-null    int64         \n",
            " 7   Max HR             689 non-null    int64         \n",
            " 8   Avg Run Cadence    689 non-null    int64         \n",
            " 9   Max Run Cadence    689 non-null    int64         \n",
            " 10  Avg Pace           689 non-null    object        \n",
            " 11  Best Pace          689 non-null    object        \n",
            " 12  Elev Gain          689 non-null    int32         \n",
            " 13  Elev Loss          689 non-null    int32         \n",
            " 14  Avg Stride Length  689 non-null    float64       \n",
            "dtypes: datetime64[ns](1), float64(3), int32(2), int64(5), object(4)\n",
            "memory usage: 75.5+ KB\n"
          ]
        }
      ],
      "source": [
        "df.info()"
      ]
    },
    {
      "cell_type": "code",
      "execution_count": null,
      "metadata": {},
      "outputs": [],
      "source": []
    },
    {
      "cell_type": "code",
      "execution_count": null,
      "metadata": {
        "id": "s_rhZnDFQFJ6"
      },
      "outputs": [],
      "source": [
        "#recordes pessoais por ano(distancia)\n",
        "#distancia percorrida por ano()\n",
        "#total calorias gastas por ano\n",
        "#distancia total por ano\n",
        "#serie temporal por mês em cada ano (2018,2019,2020)\n",
        "#\n",
        "\n",
        "\n",
        "\n"
      ]
    },
    {
      "cell_type": "code",
      "execution_count": 274,
      "metadata": {},
      "outputs": [],
      "source": [
        "df.to_csv('running_tratatada.csv')"
      ]
    }
  ],
  "metadata": {
    "colab": {
      "authorship_tag": "ABX9TyPQxMpe68qP2220YdXlAjPA",
      "include_colab_link": true,
      "provenance": []
    },
    "kernelspec": {
      "display_name": "Python 3.9.12 ('base')",
      "language": "python",
      "name": "python3"
    },
    "language_info": {
      "codemirror_mode": {
        "name": "ipython",
        "version": 3
      },
      "file_extension": ".py",
      "mimetype": "text/x-python",
      "name": "python",
      "nbconvert_exporter": "python",
      "pygments_lexer": "ipython3",
      "version": "3.9.12"
    },
    "vscode": {
      "interpreter": {
        "hash": "9ce49f042908f9ee1cacdae281829bb413cc0796f56e9a52cc15722728dab4bb"
      }
    }
  },
  "nbformat": 4,
  "nbformat_minor": 0
}
