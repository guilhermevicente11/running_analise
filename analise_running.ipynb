{
 "cells": [
  {
   "cell_type": "code",
   "execution_count": null,
   "metadata": {},
   "outputs": [],
   "source": [
    "#definir uma série temporal de corrida no ano(e avaliar a cada mês).\n",
    "#definir uma série temporal de calorias gastas no ano(e avaliar a cada mês).\n",
    "#exibir quantas vezes ele correu em cada ano\n",
    "#até que mês ele correu em 2020? temos pandemia. como foi o desempenho dele nesse ano.\n",
    "#analisar o intervalo de tempo que ele desempenha melhor na corrida(+ distância).\n",
    "\n"
   ]
  },
  {
   "cell_type": "code",
   "execution_count": null,
   "metadata": {},
   "outputs": [],
   "source": [
    "import pandas as pd\n",
    "import seaborn as sns\n",
    "import matplotlib.pyplot as plt"
   ]
  },
  {
   "cell_type": "code",
   "execution_count": null,
   "metadata": {},
   "outputs": [],
   "source": [
    "df = pd.read_csv('https://raw.githubusercontent.com/guilhermevicente11/running_analise/main/running_tratatada.csv')"
   ]
  },
  {
   "cell_type": "code",
   "execution_count": 9,
   "metadata": {},
   "outputs": [
    {
     "data": {
      "text/html": [
       "<div>\n",
       "<style scoped>\n",
       "    .dataframe tbody tr th:only-of-type {\n",
       "        vertical-align: middle;\n",
       "    }\n",
       "\n",
       "    .dataframe tbody tr th {\n",
       "        vertical-align: top;\n",
       "    }\n",
       "\n",
       "    .dataframe thead th {\n",
       "        text-align: right;\n",
       "    }\n",
       "</style>\n",
       "<table border=\"1\" class=\"dataframe\">\n",
       "  <thead>\n",
       "    <tr style=\"text-align: right;\">\n",
       "      <th></th>\n",
       "      <th>Unnamed: 0</th>\n",
       "      <th>Activity Type</th>\n",
       "      <th>Day</th>\n",
       "      <th>Month</th>\n",
       "      <th>Year</th>\n",
       "      <th>Title</th>\n",
       "      <th>Distance</th>\n",
       "      <th>Calories</th>\n",
       "      <th>Time</th>\n",
       "      <th>Avg HR</th>\n",
       "      <th>Max HR</th>\n",
       "      <th>Avg Run Cadence</th>\n",
       "      <th>Max Run Cadence</th>\n",
       "      <th>Avg Pace</th>\n",
       "      <th>Best Pace</th>\n",
       "      <th>Elev Gain</th>\n",
       "      <th>Elev Loss</th>\n",
       "      <th>Avg Stride Length</th>\n",
       "    </tr>\n",
       "  </thead>\n",
       "  <tbody>\n",
       "    <tr>\n",
       "      <th>0</th>\n",
       "      <td>0</td>\n",
       "      <td>Running</td>\n",
       "      <td>15</td>\n",
       "      <td>7</td>\n",
       "      <td>2020</td>\n",
       "      <td>Cherry Hill Running</td>\n",
       "      <td>6.00</td>\n",
       "      <td>530.0</td>\n",
       "      <td>43</td>\n",
       "      <td>141</td>\n",
       "      <td>160</td>\n",
       "      <td>176</td>\n",
       "      <td>182</td>\n",
       "      <td>7:19</td>\n",
       "      <td>6:20</td>\n",
       "      <td>169</td>\n",
       "      <td>173</td>\n",
       "      <td>1.26</td>\n",
       "    </tr>\n",
       "    <tr>\n",
       "      <th>1</th>\n",
       "      <td>1</td>\n",
       "      <td>Running</td>\n",
       "      <td>14</td>\n",
       "      <td>7</td>\n",
       "      <td>2020</td>\n",
       "      <td>Cherry Hill Running</td>\n",
       "      <td>6.50</td>\n",
       "      <td>587.0</td>\n",
       "      <td>47</td>\n",
       "      <td>144</td>\n",
       "      <td>160</td>\n",
       "      <td>172</td>\n",
       "      <td>182</td>\n",
       "      <td>7:14</td>\n",
       "      <td>6:35</td>\n",
       "      <td>183</td>\n",
       "      <td>187</td>\n",
       "      <td>1.29</td>\n",
       "    </tr>\n",
       "    <tr>\n",
       "      <th>2</th>\n",
       "      <td>2</td>\n",
       "      <td>Running</td>\n",
       "      <td>13</td>\n",
       "      <td>7</td>\n",
       "      <td>2020</td>\n",
       "      <td>Cherry Hill Running</td>\n",
       "      <td>5.01</td>\n",
       "      <td>392.0</td>\n",
       "      <td>40</td>\n",
       "      <td>128</td>\n",
       "      <td>151</td>\n",
       "      <td>170</td>\n",
       "      <td>180</td>\n",
       "      <td>8:05</td>\n",
       "      <td>5:49</td>\n",
       "      <td>124</td>\n",
       "      <td>124</td>\n",
       "      <td>1.17</td>\n",
       "    </tr>\n",
       "    <tr>\n",
       "      <th>3</th>\n",
       "      <td>3</td>\n",
       "      <td>Running</td>\n",
       "      <td>12</td>\n",
       "      <td>7</td>\n",
       "      <td>2020</td>\n",
       "      <td>Cherry Hill Running</td>\n",
       "      <td>7.01</td>\n",
       "      <td>633.0</td>\n",
       "      <td>52</td>\n",
       "      <td>142</td>\n",
       "      <td>157</td>\n",
       "      <td>172</td>\n",
       "      <td>180</td>\n",
       "      <td>7:33</td>\n",
       "      <td>5:00</td>\n",
       "      <td>215</td>\n",
       "      <td>219</td>\n",
       "      <td>1.24</td>\n",
       "    </tr>\n",
       "    <tr>\n",
       "      <th>4</th>\n",
       "      <td>4</td>\n",
       "      <td>Running</td>\n",
       "      <td>11</td>\n",
       "      <td>7</td>\n",
       "      <td>2020</td>\n",
       "      <td>Cherry Hill Running</td>\n",
       "      <td>5.19</td>\n",
       "      <td>419.0</td>\n",
       "      <td>41</td>\n",
       "      <td>129</td>\n",
       "      <td>143</td>\n",
       "      <td>170</td>\n",
       "      <td>178</td>\n",
       "      <td>8:01</td>\n",
       "      <td>6:48</td>\n",
       "      <td>76</td>\n",
       "      <td>80</td>\n",
       "      <td>1.18</td>\n",
       "    </tr>\n",
       "  </tbody>\n",
       "</table>\n",
       "</div>"
      ],
      "text/plain": [
       "   Unnamed: 0 Activity Type  Day  Month  Year                Title  Distance  \\\n",
       "0           0       Running   15      7  2020  Cherry Hill Running      6.00   \n",
       "1           1       Running   14      7  2020  Cherry Hill Running      6.50   \n",
       "2           2       Running   13      7  2020  Cherry Hill Running      5.01   \n",
       "3           3       Running   12      7  2020  Cherry Hill Running      7.01   \n",
       "4           4       Running   11      7  2020  Cherry Hill Running      5.19   \n",
       "\n",
       "   Calories  Time  Avg HR  Max HR  Avg Run Cadence  Max Run Cadence Avg Pace  \\\n",
       "0     530.0    43     141     160              176              182     7:19   \n",
       "1     587.0    47     144     160              172              182     7:14   \n",
       "2     392.0    40     128     151              170              180     8:05   \n",
       "3     633.0    52     142     157              172              180     7:33   \n",
       "4     419.0    41     129     143              170              178     8:01   \n",
       "\n",
       "  Best Pace  Elev Gain  Elev Loss  Avg Stride Length  \n",
       "0      6:20        169        173               1.26  \n",
       "1      6:35        183        187               1.29  \n",
       "2      5:49        124        124               1.17  \n",
       "3      5:00        215        219               1.24  \n",
       "4      6:48         76         80               1.18  "
      ]
     },
     "execution_count": 9,
     "metadata": {},
     "output_type": "execute_result"
    }
   ],
   "source": [
    "df.head(5)"
   ]
  },
  {
   "cell_type": "code",
   "execution_count": null,
   "metadata": {},
   "outputs": [],
   "source": [
    "df['Year'].value_counts()"
   ]
  },
  {
   "cell_type": "code",
   "execution_count": 30,
   "metadata": {},
   "outputs": [],
   "source": [
    "df.drop(columns = ['Unnamed: 0'], inplace = True)"
   ]
  },
  {
   "cell_type": "code",
   "execution_count": null,
   "metadata": {},
   "outputs": [],
   "source": [
    "df.query('Time < 60').corr().round(2)"
   ]
  },
  {
   "cell_type": "code",
   "execution_count": null,
   "metadata": {},
   "outputs": [],
   "source": [
    "df.query('Time > 200 ')"
   ]
  },
  {
   "cell_type": "code",
   "execution_count": null,
   "metadata": {},
   "outputs": [],
   "source": []
  },
  {
   "cell_type": "code",
   "execution_count": 61,
   "metadata": {},
   "outputs": [
    {
     "data": {
      "image/png": "[encoded data removed]",
      "text/plain": [
       "<Figure size 432x288 with 1 Axes>"
      ]
     },
     "metadata": {
      "needs_background": "light"
     },
     "output_type": "display_data"
    }
   ],
   "source": [
    "sns.histplot(data = df.query('Year == 2020')['Month'], kde= False, bins = 20 );"
   ]
  },
  {
   "cell_type": "code",
   "execution_count": 48,
   "metadata": {},
   "outputs": [
    {
     "data": {
      "image/png": "[encoded data removed]",
      "text/plain": [
       "<Figure size 432x288 with 1 Axes>"
      ]
     },
     "metadata": {
      "needs_background": "light"
     },
     "output_type": "display_data"
    }
   ],
   "source": [
    "sns.countplot(data=df, x='Year');"
   ]
  }
 ],
 "metadata": {
  "kernelspec": {
   "display_name": "base",
   "language": "python",
   "name": "python3"
  },
  "language_info": {
   "codemirror_mode": {
    "name": "ipython",
    "version": 3
   },
   "file_extension": ".py",
   "mimetype": "text/x-python",
   "name": "python",
   "nbconvert_exporter": "python",
   "pygments_lexer": "ipython3",
   "version": "3.9.12 (main, Apr  4 2022, 05:22:27) [MSC v.1916 64 bit (AMD64)]"
  },
  "orig_nbformat": 4,
  "vscode": {
   "interpreter": {
    "hash": "9ce49f042908f9ee1cacdae281829bb413cc0796f56e9a52cc15722728dab4bb"
   }
  }
 },
 "nbformat": 4,
 "nbformat_minor": 2
}
