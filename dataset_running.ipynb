{
  "cells": [
    {
      "cell_type": "markdown",
      "metadata": {
        "colab_type": "text",
        "id": "view-in-github"
      },
      "source": [
        "<a href=\"https://colab.research.google.com/github/guilhermevicente11/running_analise/blob/main/dataset_running.ipynb\" target=\"_parent\"><img src=\"https://colab.research.google.com/assets/colab-badge.svg\" alt=\"Open In Colab\"/></a>"
      ]
    },
    {
      "cell_type": "code",
      "execution_count": 1,
      "metadata": {
        "id": "uUA5_xrhUj5e"
      },
      "outputs": [],
      "source": [
        "import pandas as pd\n",
        "import numpy as np\n",
        "import seaborn as sns\n",
        "import matplotlib.pyplot as plt\n"
      ]
    },
    {
      "cell_type": "code",
      "execution_count": null,
      "metadata": {},
      "outputs": [],
      "source": [
        "#a maioria das colunas estão como objeto, ajeita-las\n",
        "#tratar as colunas de date e time \n",
        "#dividr a coluna de data em 4 colunas: dia,mes,ano e hora\n",
        "#definir uma série temporal de corrida por ano(e avaliar a cada mês)\n",
        "#definir o total de km que ele corre por ano\n",
        "#até que mês ele correu em 2020? temos pandemia. como foi o desempenho dele nesse ano.\n",
        "#quantas calorias ele queimou no total por ano\n",
        "\n"
      ]
    },
    {
      "cell_type": "code",
      "execution_count": 4,
      "metadata": {
        "colab": {
          "base_uri": "https://localhost:8080/",
          "height": 183
        },
        "id": "dUKh7tdgTftY",
        "outputId": "5ea71ea4-b40c-4cc6-d819-5cd8a80b263d"
      },
      "outputs": [
        {
          "data": {
            "text/html": [
              "<div>\n",
              "<style scoped>\n",
              "    .dataframe tbody tr th:only-of-type {\n",
              "        vertical-align: middle;\n",
              "    }\n",
              "\n",
              "    .dataframe tbody tr th {\n",
              "        vertical-align: top;\n",
              "    }\n",
              "\n",
              "    .dataframe thead th {\n",
              "        text-align: right;\n",
              "    }\n",
              "</style>\n",
              "<table border=\"1\" class=\"dataframe\">\n",
              "  <thead>\n",
              "    <tr style=\"text-align: right;\">\n",
              "      <th></th>\n",
              "      <th>Activity Type</th>\n",
              "      <th>Date</th>\n",
              "      <th>Title</th>\n",
              "      <th>Distance</th>\n",
              "      <th>Calories</th>\n",
              "      <th>Time</th>\n",
              "      <th>Avg HR</th>\n",
              "      <th>Max HR</th>\n",
              "      <th>Avg Run Cadence</th>\n",
              "      <th>Max Run Cadence</th>\n",
              "      <th>Avg Pace</th>\n",
              "      <th>Best Pace</th>\n",
              "      <th>Elev Gain</th>\n",
              "      <th>Elev Loss</th>\n",
              "      <th>Avg Stride Length</th>\n",
              "      <th>Best Lap Time</th>\n",
              "      <th>Number of Laps</th>\n",
              "    </tr>\n",
              "  </thead>\n",
              "  <tbody>\n",
              "    <tr>\n",
              "      <th>0</th>\n",
              "      <td>Running</td>\n",
              "      <td>7/15/20 9:41</td>\n",
              "      <td>Cherry Hill Running</td>\n",
              "      <td>6.00</td>\n",
              "      <td>530</td>\n",
              "      <td>0:43:55</td>\n",
              "      <td>141</td>\n",
              "      <td>160</td>\n",
              "      <td>176</td>\n",
              "      <td>182</td>\n",
              "      <td>7:19</td>\n",
              "      <td>6:20</td>\n",
              "      <td>169</td>\n",
              "      <td>173</td>\n",
              "      <td>1.26</td>\n",
              "      <td>00:02.3</td>\n",
              "      <td>7</td>\n",
              "    </tr>\n",
              "    <tr>\n",
              "      <th>1</th>\n",
              "      <td>Running</td>\n",
              "      <td>7/14/20 17:45</td>\n",
              "      <td>Cherry Hill Running</td>\n",
              "      <td>6.50</td>\n",
              "      <td>587</td>\n",
              "      <td>0:47:04</td>\n",
              "      <td>144</td>\n",
              "      <td>160</td>\n",
              "      <td>172</td>\n",
              "      <td>182</td>\n",
              "      <td>7:14</td>\n",
              "      <td>6:35</td>\n",
              "      <td>183</td>\n",
              "      <td>187</td>\n",
              "      <td>1.29</td>\n",
              "      <td>03:32.7</td>\n",
              "      <td>7</td>\n",
              "    </tr>\n",
              "    <tr>\n",
              "      <th>2</th>\n",
              "      <td>Running</td>\n",
              "      <td>7/13/20 18:57</td>\n",
              "      <td>Cherry Hill Running</td>\n",
              "      <td>5.01</td>\n",
              "      <td>392</td>\n",
              "      <td>0:40:29</td>\n",
              "      <td>128</td>\n",
              "      <td>151</td>\n",
              "      <td>170</td>\n",
              "      <td>180</td>\n",
              "      <td>8:05</td>\n",
              "      <td>5:49</td>\n",
              "      <td>124</td>\n",
              "      <td>124</td>\n",
              "      <td>1.17</td>\n",
              "      <td>00:04.1</td>\n",
              "      <td>6</td>\n",
              "    </tr>\n",
              "    <tr>\n",
              "      <th>3</th>\n",
              "      <td>Running</td>\n",
              "      <td>7/12/20 18:44</td>\n",
              "      <td>Cherry Hill Running</td>\n",
              "      <td>7.01</td>\n",
              "      <td>633</td>\n",
              "      <td>0:52:55</td>\n",
              "      <td>142</td>\n",
              "      <td>157</td>\n",
              "      <td>172</td>\n",
              "      <td>180</td>\n",
              "      <td>7:33</td>\n",
              "      <td>5:00</td>\n",
              "      <td>215</td>\n",
              "      <td>219</td>\n",
              "      <td>1.24</td>\n",
              "      <td>00:05.1</td>\n",
              "      <td>8</td>\n",
              "    </tr>\n",
              "    <tr>\n",
              "      <th>4</th>\n",
              "      <td>Running</td>\n",
              "      <td>7/11/20 19:35</td>\n",
              "      <td>Cherry Hill Running</td>\n",
              "      <td>5.19</td>\n",
              "      <td>419</td>\n",
              "      <td>0:41:35</td>\n",
              "      <td>129</td>\n",
              "      <td>143</td>\n",
              "      <td>170</td>\n",
              "      <td>178</td>\n",
              "      <td>8:01</td>\n",
              "      <td>6:48</td>\n",
              "      <td>76</td>\n",
              "      <td>80</td>\n",
              "      <td>1.18</td>\n",
              "      <td>01:27.1</td>\n",
              "      <td>6</td>\n",
              "    </tr>\n",
              "  </tbody>\n",
              "</table>\n",
              "</div>"
            ],
            "text/plain": [
              "  Activity Type           Date                Title  Distance Calories  \\\n",
              "0       Running   7/15/20 9:41  Cherry Hill Running      6.00      530   \n",
              "1       Running  7/14/20 17:45  Cherry Hill Running      6.50      587   \n",
              "2       Running  7/13/20 18:57  Cherry Hill Running      5.01      392   \n",
              "3       Running  7/12/20 18:44  Cherry Hill Running      7.01      633   \n",
              "4       Running  7/11/20 19:35  Cherry Hill Running      5.19      419   \n",
              "\n",
              "      Time Avg HR Max HR Avg Run Cadence Max Run Cadence Avg Pace Best Pace  \\\n",
              "0  0:43:55    141    160             176             182     7:19      6:20   \n",
              "1  0:47:04    144    160             172             182     7:14      6:35   \n",
              "2  0:40:29    128    151             170             180     8:05      5:49   \n",
              "3  0:52:55    142    157             172             180     7:33      5:00   \n",
              "4  0:41:35    129    143             170             178     8:01      6:48   \n",
              "\n",
              "  Elev Gain Elev Loss  Avg Stride Length Best Lap Time  Number of Laps  \n",
              "0       169       173               1.26       00:02.3               7  \n",
              "1       183       187               1.29       03:32.7               7  \n",
              "2       124       124               1.17       00:04.1               6  \n",
              "3       215       219               1.24       00:05.1               8  \n",
              "4        76        80               1.18       01:27.1               6  "
            ]
          },
          "execution_count": 4,
          "metadata": {},
          "output_type": "execute_result"
        }
      ],
      "source": [
        "df = pd.read_csv('https://raw.githubusercontent.com/guilhermevicente11/running_analise/main/activity_log.csv')\n",
        "df.head(5)\n"
      ]
    },
    {
      "cell_type": "code",
      "execution_count": null,
      "metadata": {},
      "outputs": [],
      "source": [
        "df[['Avg HR','Max HR']]"
      ]
    },
    {
      "cell_type": "code",
      "execution_count": 68,
      "metadata": {},
      "outputs": [],
      "source": [
        "#substintuindo os tracinhos por zero\n",
        "df = df.replace('--','0')\n"
      ]
    },
    {
      "cell_type": "code",
      "execution_count": 109,
      "metadata": {},
      "outputs": [],
      "source": [
        "df['Elev Gain'] = df['Elev Gain'].astype(str)"
      ]
    },
    {
      "cell_type": "code",
      "execution_count": 111,
      "metadata": {},
      "outputs": [
        {
          "name": "stdout",
          "output_type": "stream",
          "text": [
            "<class 'pandas.core.frame.DataFrame'>\n",
            "RangeIndex: 689 entries, 0 to 688\n",
            "Data columns (total 17 columns):\n",
            " #   Column             Non-Null Count  Dtype         \n",
            "---  ------             --------------  -----         \n",
            " 0   Activity Type      689 non-null    object        \n",
            " 1   Date               689 non-null    datetime64[ns]\n",
            " 2   Title              689 non-null    object        \n",
            " 3   Distance           689 non-null    float64       \n",
            " 4   Calories           689 non-null    object        \n",
            " 5   Time               689 non-null    int64         \n",
            " 6   Avg HR             689 non-null    float64       \n",
            " 7   Max HR             689 non-null    float64       \n",
            " 8   Avg Run Cadence    689 non-null    float64       \n",
            " 9   Max Run Cadence    689 non-null    float64       \n",
            " 10  Avg Pace           689 non-null    object        \n",
            " 11  Best Pace          689 non-null    object        \n",
            " 12  Elev Gain          689 non-null    object        \n",
            " 13  Elev Loss          689 non-null    object        \n",
            " 14  Avg Stride Length  689 non-null    float64       \n",
            " 15  Best Lap Time      689 non-null    object        \n",
            " 16  Number of Laps     689 non-null    int64         \n",
            "dtypes: datetime64[ns](1), float64(6), int64(2), object(8)\n",
            "memory usage: 91.6+ KB\n"
          ]
        }
      ],
      "source": [
        "df.info()"
      ]
    },
    {
      "cell_type": "code",
      "execution_count": 110,
      "metadata": {},
      "outputs": [
        {
          "data": {
            "text/plain": [
              "array(['169', '183', '124', '215', '76', '16', '7', '20', '25', '23',\n",
              "       '19', '44', '39', '199', '233', '221', '198', '137', '205', '138',\n",
              "       '105', '47', '200', '49', '22', '57', '220', '109', '102', '279',\n",
              "       '139', '134', '75', '135', '150', '195', '108', '34', '133', '180',\n",
              "       '178', '116', '96', '146', '189', '87', '191', '92', '208', '142',\n",
              "       '144', '182', '130', '148', '164', '269', '118', '171', '214',\n",
              "       '93', '113', '97', '112', '100', '132', '188', '174', '81', '106',\n",
              "       '143', '86', '149', '89', '79', '46', '101', '60', '54', '77',\n",
              "       '67', '31', '51', '48', '17', '45', '21', '40', '64', '43', '192',\n",
              "       '163', '117', '107', '123', '179', '136', '152', '63', '13', '12',\n",
              "       '29', '128', '110', '115', '306', '103', '262', '73', '238', '229',\n",
              "       '154', '121', '125', '70', '170', '3', '0', '363', '353', '37',\n",
              "       '88', '748', '781', '573', '227', '764', '82', '196', '535', '187',\n",
              "       '114', '352', '65', '838', '962', '4', '61', '406', '891', '282',\n",
              "       '400', '173', '153', '177', '405', '862', '783', '477', '291',\n",
              "       '468', '27', '38', '26', '24', '78', '487', '985', '905', '90',\n",
              "       '682', '71', '483', '519', '971', '462', '449', '475', '260', '56',\n",
              "       '463', '430', '541', '516', '58', '120', '694', '32', '83', '724',\n",
              "       '506', '305', '184', '41', '10', '531', '1,026', '434', '546',\n",
              "       '68', '538', '818', '403', '757', '270', '766', '578', '819',\n",
              "       '750', '492', '224', '84', '1,101', '155', '236', '887', '1,061',\n",
              "       '618', '393', '119', '1,054', '780', '643', '190', '36', '35',\n",
              "       '679', '827', '264', '411', '664', '167', '534', '793', '799',\n",
              "       '33', '627', '42', '497', '680', '11', '330', '695', '80', '159',\n",
              "       '526', '821', '62', '28', '313', '256', '219', '278', '176', '900',\n",
              "       '722', '126', '30', '735', '465', '74', '53', '608', '779', '331',\n",
              "       '321', '326', '156', '251', '422', '9', '1,134', '437', '273',\n",
              "       '15', '245', '404', '574', '268', '1,098', '937', '626', '423',\n",
              "       '157', '14', '836', '479', '50', '85', '606', '520', '211', '168',\n",
              "       '8', '272', '788', '417', '1,046', '548', '241', '276', '651',\n",
              "       '1,041', '315', '563', '823', '1,198', '335', '549', '859', '453',\n",
              "       '1,067', '810', '591', '336', '438', '392', '1,036', '833', '530',\n",
              "       '495', '470', '161', '537', '685', '151', '927', '202', '172',\n",
              "       '1,000', '259', '297', '592', '869', '984', '580', '104', '340',\n",
              "       '317', '261', '203', '494', '376', '394', '314', '964', '194',\n",
              "       '1,203', '237', '303', '244', '864', '727', '622', '284', '447',\n",
              "       '657', '426', '145', '433', '884', '193', '246', '693', '610',\n",
              "       '772', '926', '1,088', '1,262', '140', '399', '296', '507', '804',\n",
              "       '540', '186', '671', '719', '91', '312', '575', '721', '424',\n",
              "       '325', '398', '872', '440', '419', '701', '302', '555', '669',\n",
              "       '382', '322', '197'], dtype=object)"
            ]
          },
          "execution_count": 110,
          "metadata": {},
          "output_type": "execute_result"
        }
      ],
      "source": [
        "df['Elev Gain'].unique()"
      ]
    },
    {
      "cell_type": "code",
      "execution_count": 104,
      "metadata": {},
      "outputs": [
        {
          "ename": "ValueError",
          "evalue": "could not convert string to float: '1,026'",
          "output_type": "error",
          "traceback": [
            "\u001b[1;31m---------------------------------------------------------------------------\u001b[0m",
            "\u001b[1;31mValueError\u001b[0m                                Traceback (most recent call last)",
            "\u001b[1;32mc:\\Users\\rosiv\\OneDrive\\Área de Trabalho\\GitHub\\running_analise\\dataset_running.ipynb Célula: 7\u001b[0m in \u001b[0;36m<cell line: 5>\u001b[1;34m()\u001b[0m\n\u001b[0;32m      <a href='vscode-notebook-cell:/c%3A/Users/rosiv/OneDrive/%C3%81rea%20de%20Trabalho/GitHub/running_analise/dataset_running.ipynb#X36sZmlsZQ%3D%3D?line=2'>3</a>\u001b[0m df[[\u001b[39m'\u001b[39m\u001b[39mAvg HR\u001b[39m\u001b[39m'\u001b[39m,\u001b[39m'\u001b[39m\u001b[39mMax HR\u001b[39m\u001b[39m'\u001b[39m]] \u001b[39m=\u001b[39m df[[\u001b[39m'\u001b[39m\u001b[39mAvg HR\u001b[39m\u001b[39m'\u001b[39m,\u001b[39m'\u001b[39m\u001b[39mMax HR\u001b[39m\u001b[39m'\u001b[39m]]\u001b[39m.\u001b[39mastype(\u001b[39mfloat\u001b[39m)\n\u001b[0;32m      <a href='vscode-notebook-cell:/c%3A/Users/rosiv/OneDrive/%C3%81rea%20de%20Trabalho/GitHub/running_analise/dataset_running.ipynb#X36sZmlsZQ%3D%3D?line=3'>4</a>\u001b[0m df[[\u001b[39m'\u001b[39m\u001b[39mAvg Run Cadence\u001b[39m\u001b[39m'\u001b[39m,\u001b[39m'\u001b[39m\u001b[39mMax Run Cadence\u001b[39m\u001b[39m'\u001b[39m]] \u001b[39m=\u001b[39m df[[\u001b[39m'\u001b[39m\u001b[39mAvg Run Cadence\u001b[39m\u001b[39m'\u001b[39m,\u001b[39m'\u001b[39m\u001b[39mMax Run Cadence\u001b[39m\u001b[39m'\u001b[39m]]\u001b[39m.\u001b[39mastype(\u001b[39mfloat\u001b[39m)\n\u001b[1;32m----> <a href='vscode-notebook-cell:/c%3A/Users/rosiv/OneDrive/%C3%81rea%20de%20Trabalho/GitHub/running_analise/dataset_running.ipynb#X36sZmlsZQ%3D%3D?line=4'>5</a>\u001b[0m df[[\u001b[39m'\u001b[39m\u001b[39mElev Gain\u001b[39m\u001b[39m'\u001b[39m,\u001b[39m'\u001b[39m\u001b[39mElev Loss\u001b[39m\u001b[39m'\u001b[39m]] \u001b[39m=\u001b[39m df[[\u001b[39m'\u001b[39;49m\u001b[39mElev Gain\u001b[39;49m\u001b[39m'\u001b[39;49m,\u001b[39m'\u001b[39;49m\u001b[39mElev Loss\u001b[39;49m\u001b[39m'\u001b[39;49m]]\u001b[39m.\u001b[39;49mastype(\u001b[39mfloat\u001b[39;49m)\n",
            "File \u001b[1;32mc:\\Users\\rosiv\\anaconda3\\lib\\site-packages\\pandas\\core\\generic.py:5912\u001b[0m, in \u001b[0;36mNDFrame.astype\u001b[1;34m(self, dtype, copy, errors)\u001b[0m\n\u001b[0;32m   5905\u001b[0m     results \u001b[39m=\u001b[39m [\n\u001b[0;32m   5906\u001b[0m         \u001b[39mself\u001b[39m\u001b[39m.\u001b[39miloc[:, i]\u001b[39m.\u001b[39mastype(dtype, copy\u001b[39m=\u001b[39mcopy)\n\u001b[0;32m   5907\u001b[0m         \u001b[39mfor\u001b[39;00m i \u001b[39min\u001b[39;00m \u001b[39mrange\u001b[39m(\u001b[39mlen\u001b[39m(\u001b[39mself\u001b[39m\u001b[39m.\u001b[39mcolumns))\n\u001b[0;32m   5908\u001b[0m     ]\n\u001b[0;32m   5910\u001b[0m \u001b[39melse\u001b[39;00m:\n\u001b[0;32m   5911\u001b[0m     \u001b[39m# else, only a single dtype is given\u001b[39;00m\n\u001b[1;32m-> 5912\u001b[0m     new_data \u001b[39m=\u001b[39m \u001b[39mself\u001b[39;49m\u001b[39m.\u001b[39;49m_mgr\u001b[39m.\u001b[39;49mastype(dtype\u001b[39m=\u001b[39;49mdtype, copy\u001b[39m=\u001b[39;49mcopy, errors\u001b[39m=\u001b[39;49merrors)\n\u001b[0;32m   5913\u001b[0m     \u001b[39mreturn\u001b[39;00m \u001b[39mself\u001b[39m\u001b[39m.\u001b[39m_constructor(new_data)\u001b[39m.\u001b[39m__finalize__(\u001b[39mself\u001b[39m, method\u001b[39m=\u001b[39m\u001b[39m\"\u001b[39m\u001b[39mastype\u001b[39m\u001b[39m\"\u001b[39m)\n\u001b[0;32m   5915\u001b[0m \u001b[39m# GH 33113: handle empty frame or series\u001b[39;00m\n",
            "File \u001b[1;32mc:\\Users\\rosiv\\anaconda3\\lib\\site-packages\\pandas\\core\\internals\\managers.py:419\u001b[0m, in \u001b[0;36mBaseBlockManager.astype\u001b[1;34m(self, dtype, copy, errors)\u001b[0m\n\u001b[0;32m    418\u001b[0m \u001b[39mdef\u001b[39;00m \u001b[39mastype\u001b[39m(\u001b[39mself\u001b[39m: T, dtype, copy: \u001b[39mbool\u001b[39m \u001b[39m=\u001b[39m \u001b[39mFalse\u001b[39;00m, errors: \u001b[39mstr\u001b[39m \u001b[39m=\u001b[39m \u001b[39m\"\u001b[39m\u001b[39mraise\u001b[39m\u001b[39m\"\u001b[39m) \u001b[39m-\u001b[39m\u001b[39m>\u001b[39m T:\n\u001b[1;32m--> 419\u001b[0m     \u001b[39mreturn\u001b[39;00m \u001b[39mself\u001b[39;49m\u001b[39m.\u001b[39;49mapply(\u001b[39m\"\u001b[39;49m\u001b[39mastype\u001b[39;49m\u001b[39m\"\u001b[39;49m, dtype\u001b[39m=\u001b[39;49mdtype, copy\u001b[39m=\u001b[39;49mcopy, errors\u001b[39m=\u001b[39;49merrors)\n",
            "File \u001b[1;32mc:\\Users\\rosiv\\anaconda3\\lib\\site-packages\\pandas\\core\\internals\\managers.py:304\u001b[0m, in \u001b[0;36mBaseBlockManager.apply\u001b[1;34m(self, f, align_keys, ignore_failures, **kwargs)\u001b[0m\n\u001b[0;32m    302\u001b[0m         applied \u001b[39m=\u001b[39m b\u001b[39m.\u001b[39mapply(f, \u001b[39m*\u001b[39m\u001b[39m*\u001b[39mkwargs)\n\u001b[0;32m    303\u001b[0m     \u001b[39melse\u001b[39;00m:\n\u001b[1;32m--> 304\u001b[0m         applied \u001b[39m=\u001b[39m \u001b[39mgetattr\u001b[39m(b, f)(\u001b[39m*\u001b[39m\u001b[39m*\u001b[39mkwargs)\n\u001b[0;32m    305\u001b[0m \u001b[39mexcept\u001b[39;00m (\u001b[39mTypeError\u001b[39;00m, \u001b[39mNotImplementedError\u001b[39;00m):\n\u001b[0;32m    306\u001b[0m     \u001b[39mif\u001b[39;00m \u001b[39mnot\u001b[39;00m ignore_failures:\n",
            "File \u001b[1;32mc:\\Users\\rosiv\\anaconda3\\lib\\site-packages\\pandas\\core\\internals\\blocks.py:580\u001b[0m, in \u001b[0;36mBlock.astype\u001b[1;34m(self, dtype, copy, errors)\u001b[0m\n\u001b[0;32m    562\u001b[0m \u001b[39m\"\"\"\u001b[39;00m\n\u001b[0;32m    563\u001b[0m \u001b[39mCoerce to the new dtype.\u001b[39;00m\n\u001b[0;32m    564\u001b[0m \n\u001b[1;32m   (...)\u001b[0m\n\u001b[0;32m    576\u001b[0m \u001b[39mBlock\u001b[39;00m\n\u001b[0;32m    577\u001b[0m \u001b[39m\"\"\"\u001b[39;00m\n\u001b[0;32m    578\u001b[0m values \u001b[39m=\u001b[39m \u001b[39mself\u001b[39m\u001b[39m.\u001b[39mvalues\n\u001b[1;32m--> 580\u001b[0m new_values \u001b[39m=\u001b[39m astype_array_safe(values, dtype, copy\u001b[39m=\u001b[39;49mcopy, errors\u001b[39m=\u001b[39;49merrors)\n\u001b[0;32m    582\u001b[0m new_values \u001b[39m=\u001b[39m maybe_coerce_values(new_values)\n\u001b[0;32m    583\u001b[0m newb \u001b[39m=\u001b[39m \u001b[39mself\u001b[39m\u001b[39m.\u001b[39mmake_block(new_values)\n",
            "File \u001b[1;32mc:\\Users\\rosiv\\anaconda3\\lib\\site-packages\\pandas\\core\\dtypes\\cast.py:1292\u001b[0m, in \u001b[0;36mastype_array_safe\u001b[1;34m(values, dtype, copy, errors)\u001b[0m\n\u001b[0;32m   1289\u001b[0m     dtype \u001b[39m=\u001b[39m dtype\u001b[39m.\u001b[39mnumpy_dtype\n\u001b[0;32m   1291\u001b[0m \u001b[39mtry\u001b[39;00m:\n\u001b[1;32m-> 1292\u001b[0m     new_values \u001b[39m=\u001b[39m astype_array(values, dtype, copy\u001b[39m=\u001b[39;49mcopy)\n\u001b[0;32m   1293\u001b[0m \u001b[39mexcept\u001b[39;00m (\u001b[39mValueError\u001b[39;00m, \u001b[39mTypeError\u001b[39;00m):\n\u001b[0;32m   1294\u001b[0m     \u001b[39m# e.g. astype_nansafe can fail on object-dtype of strings\u001b[39;00m\n\u001b[0;32m   1295\u001b[0m     \u001b[39m#  trying to convert to float\u001b[39;00m\n\u001b[0;32m   1296\u001b[0m     \u001b[39mif\u001b[39;00m errors \u001b[39m==\u001b[39m \u001b[39m\"\u001b[39m\u001b[39mignore\u001b[39m\u001b[39m\"\u001b[39m:\n",
            "File \u001b[1;32mc:\\Users\\rosiv\\anaconda3\\lib\\site-packages\\pandas\\core\\dtypes\\cast.py:1237\u001b[0m, in \u001b[0;36mastype_array\u001b[1;34m(values, dtype, copy)\u001b[0m\n\u001b[0;32m   1234\u001b[0m     values \u001b[39m=\u001b[39m values\u001b[39m.\u001b[39mastype(dtype, copy\u001b[39m=\u001b[39mcopy)\n\u001b[0;32m   1236\u001b[0m \u001b[39melse\u001b[39;00m:\n\u001b[1;32m-> 1237\u001b[0m     values \u001b[39m=\u001b[39m astype_nansafe(values, dtype, copy\u001b[39m=\u001b[39;49mcopy)\n\u001b[0;32m   1239\u001b[0m \u001b[39m# in pandas we don't store numpy str dtypes, so convert to object\u001b[39;00m\n\u001b[0;32m   1240\u001b[0m \u001b[39mif\u001b[39;00m \u001b[39misinstance\u001b[39m(dtype, np\u001b[39m.\u001b[39mdtype) \u001b[39mand\u001b[39;00m \u001b[39missubclass\u001b[39m(values\u001b[39m.\u001b[39mdtype\u001b[39m.\u001b[39mtype, \u001b[39mstr\u001b[39m):\n",
            "File \u001b[1;32mc:\\Users\\rosiv\\anaconda3\\lib\\site-packages\\pandas\\core\\dtypes\\cast.py:1098\u001b[0m, in \u001b[0;36mastype_nansafe\u001b[1;34m(arr, dtype, copy, skipna)\u001b[0m\n\u001b[0;32m   1096\u001b[0m \u001b[39mif\u001b[39;00m arr\u001b[39m.\u001b[39mndim \u001b[39m>\u001b[39m \u001b[39m1\u001b[39m:\n\u001b[0;32m   1097\u001b[0m     flat \u001b[39m=\u001b[39m arr\u001b[39m.\u001b[39mravel()\n\u001b[1;32m-> 1098\u001b[0m     result \u001b[39m=\u001b[39m astype_nansafe(flat, dtype, copy\u001b[39m=\u001b[39;49mcopy, skipna\u001b[39m=\u001b[39;49mskipna)\n\u001b[0;32m   1099\u001b[0m     \u001b[39m# error: Item \"ExtensionArray\" of \"Union[ExtensionArray, ndarray]\" has no\u001b[39;00m\n\u001b[0;32m   1100\u001b[0m     \u001b[39m# attribute \"reshape\"\u001b[39;00m\n\u001b[0;32m   1101\u001b[0m     \u001b[39mreturn\u001b[39;00m result\u001b[39m.\u001b[39mreshape(arr\u001b[39m.\u001b[39mshape)  \u001b[39m# type: ignore[union-attr]\u001b[39;00m\n",
            "File \u001b[1;32mc:\\Users\\rosiv\\anaconda3\\lib\\site-packages\\pandas\\core\\dtypes\\cast.py:1181\u001b[0m, in \u001b[0;36mastype_nansafe\u001b[1;34m(arr, dtype, copy, skipna)\u001b[0m\n\u001b[0;32m   1177\u001b[0m     \u001b[39mraise\u001b[39;00m \u001b[39mValueError\u001b[39;00m(msg)\n\u001b[0;32m   1179\u001b[0m \u001b[39mif\u001b[39;00m copy \u001b[39mor\u001b[39;00m is_object_dtype(arr\u001b[39m.\u001b[39mdtype) \u001b[39mor\u001b[39;00m is_object_dtype(dtype):\n\u001b[0;32m   1180\u001b[0m     \u001b[39m# Explicit copy, or required since NumPy can't view from / to object.\u001b[39;00m\n\u001b[1;32m-> 1181\u001b[0m     \u001b[39mreturn\u001b[39;00m arr\u001b[39m.\u001b[39;49mastype(dtype, copy\u001b[39m=\u001b[39;49m\u001b[39mTrue\u001b[39;49;00m)\n\u001b[0;32m   1183\u001b[0m \u001b[39mreturn\u001b[39;00m arr\u001b[39m.\u001b[39mastype(dtype, copy\u001b[39m=\u001b[39mcopy)\n",
            "\u001b[1;31mValueError\u001b[0m: could not convert string to float: '1,026'"
          ]
        }
      ],
      "source": [
        "#convertendo colunas para float\n",
        "df['Distance'] = df['Distance'].astype(float)\n",
        "df[['Avg HR','Max HR']] = df[['Avg HR','Max HR']].astype(float)\n",
        "df[['Avg Run Cadence','Max Run Cadence']] = df[['Avg Run Cadence','Max Run Cadence']].astype(float)\n",
        "df[['Elev Gain','Elev Loss']] = df[['Elev Gain','Elev Loss']].astype(float)\n"
      ]
    },
    {
      "cell_type": "code",
      "execution_count": 98,
      "metadata": {},
      "outputs": [],
      "source": []
    },
    {
      "cell_type": "code",
      "execution_count": null,
      "metadata": {},
      "outputs": [],
      "source": [
        "df['']"
      ]
    },
    {
      "cell_type": "code",
      "execution_count": null,
      "metadata": {},
      "outputs": [],
      "source": [
        "df.info()"
      ]
    },
    {
      "cell_type": "code",
      "execution_count": null,
      "metadata": {},
      "outputs": [],
      "source": [
        "d"
      ]
    },
    {
      "cell_type": "code",
      "execution_count": 47,
      "metadata": {},
      "outputs": [],
      "source": [
        "#transformar dados da coluna calories -- para 0\n",
        "df['Calories'] = df['Calories'].replace('--','0')\n"
      ]
    },
    {
      "cell_type": "code",
      "execution_count": 63,
      "metadata": {},
      "outputs": [],
      "source": [
        "df['Calories'] = df['Calories'].astype(str)\n",
        "df['Calories'] = df['Calories'].replace(',','.')"
      ]
    },
    {
      "cell_type": "code",
      "execution_count": null,
      "metadata": {},
      "outputs": [],
      "source": [
        "#Transformar a coluna em numérica\n",
        "df['Calories'] = pd.to_numeric(df['Calories'])"
      ]
    },
    {
      "cell_type": "code",
      "execution_count": 9,
      "metadata": {},
      "outputs": [],
      "source": [
        "df['Date'] = pd.to_datetime(df['Date'])\n"
      ]
    },
    {
      "cell_type": "code",
      "execution_count": null,
      "metadata": {},
      "outputs": [],
      "source": [
        "df['Time'].unique()"
      ]
    },
    {
      "cell_type": "code",
      "execution_count": null,
      "metadata": {},
      "outputs": [],
      "source": [
        "ano2020 = df['Date'].dt.year == 2020\n",
        "df[ano2020]"
      ]
    },
    {
      "cell_type": "code",
      "execution_count": null,
      "metadata": {},
      "outputs": [],
      "source": [
        "df['Date']"
      ]
    },
    {
      "cell_type": "code",
      "execution_count": 24,
      "metadata": {},
      "outputs": [],
      "source": [
        "df['Time'] = pd.to_datetime(df['Time']).dt.hour * 60 + pd.to_datetime(df['Time']).dt.minute\n"
      ]
    },
    {
      "cell_type": "code",
      "execution_count": 35,
      "metadata": {},
      "outputs": [
        {
          "name": "stdout",
          "output_type": "stream",
          "text": [
            "<class 'pandas.core.frame.DataFrame'>\n",
            "RangeIndex: 689 entries, 0 to 688\n",
            "Data columns (total 17 columns):\n",
            " #   Column             Non-Null Count  Dtype         \n",
            "---  ------             --------------  -----         \n",
            " 0   Activity Type      689 non-null    object        \n",
            " 1   Date               689 non-null    datetime64[ns]\n",
            " 2   Title              689 non-null    object        \n",
            " 3   Distance           689 non-null    float64       \n",
            " 4   Calories           689 non-null    object        \n",
            " 5   Time               689 non-null    int64         \n",
            " 6   Avg HR             689 non-null    object        \n",
            " 7   Max HR             689 non-null    object        \n",
            " 8   Avg Run Cadence    689 non-null    object        \n",
            " 9   Max Run Cadence    689 non-null    object        \n",
            " 10  Avg Pace           689 non-null    object        \n",
            " 11  Best Pace          689 non-null    object        \n",
            " 12  Elev Gain          689 non-null    object        \n",
            " 13  Elev Loss          689 non-null    object        \n",
            " 14  Avg Stride Length  689 non-null    float64       \n",
            " 15  Best Lap Time      689 non-null    object        \n",
            " 16  Number of Laps     689 non-null    int64         \n",
            "dtypes: datetime64[ns](1), float64(2), int64(2), object(12)\n",
            "memory usage: 91.6+ KB\n"
          ]
        }
      ],
      "source": [
        "df.info()"
      ]
    },
    {
      "cell_type": "code",
      "execution_count": null,
      "metadata": {
        "id": "s_rhZnDFQFJ6"
      },
      "outputs": [],
      "source": [
        "#recordes pessoais por ano(distancia)\n",
        "#distancia percorrida por ano()\n",
        "#total calorias gastas por ano\n",
        "#distancia total por ano\n",
        "#serie temporal por mês em cada ano (2018,2019,2020)\n",
        "#\n",
        "\n",
        "\n",
        "\n"
      ]
    },
    {
      "cell_type": "code",
      "execution_count": null,
      "metadata": {},
      "outputs": [],
      "source": []
    }
  ],
  "metadata": {
    "colab": {
      "authorship_tag": "ABX9TyPQxMpe68qP2220YdXlAjPA",
      "include_colab_link": true,
      "provenance": []
    },
    "kernelspec": {
      "display_name": "Python 3.9.12 ('base')",
      "language": "python",
      "name": "python3"
    },
    "language_info": {
      "codemirror_mode": {
        "name": "ipython",
        "version": 3
      },
      "file_extension": ".py",
      "mimetype": "text/x-python",
      "name": "python",
      "nbconvert_exporter": "python",
      "pygments_lexer": "ipython3",
      "version": "3.9.12"
    },
    "vscode": {
      "interpreter": {
        "hash": "9ce49f042908f9ee1cacdae281829bb413cc0796f56e9a52cc15722728dab4bb"
      }
    }
  },
  "nbformat": 4,
  "nbformat_minor": 0
}
