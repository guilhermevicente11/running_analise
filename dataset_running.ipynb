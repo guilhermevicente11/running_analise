{
  "cells": [
    {
      "cell_type": "markdown",
      "metadata": {
        "colab_type": "text",
        "id": "view-in-github"
      },
      "source": [
        "<a href=\"https://colab.research.google.com/github/guilhermevicente11/running_analise/blob/main/dataset_running.ipynb\" target=\"_parent\"><img src=\"https://colab.research.google.com/assets/colab-badge.svg\" alt=\"Open In Colab\"/></a>"
      ]
    },
    {
      "cell_type": "code",
      "execution_count": 1,
      "metadata": {
        "id": "uUA5_xrhUj5e"
      },
      "outputs": [],
      "source": [
        "import pandas as pd\n",
        "import numpy as np\n",
        "import seaborn as sns\n",
        "import matplotlib.pyplot as plt\n"
      ]
    },
    {
      "cell_type": "code",
      "execution_count": null,
      "metadata": {},
      "outputs": [],
      "source": [
        "#a maioria das colunas estão como objeto, ajeita-las\n",
        "#tratar as colunas de date e time \n",
        "#dividr a coluna de data em 4 colunas: dia,mes,ano e hora\n",
        "#definir uma série temporal de corrida por ano(e avaliar a cada mês)\n",
        "#definir o total de km que ele corre por ano\n",
        "#até que mês ele correu em 2020? temos pandemia. como foi o desempenho dele nesse ano.\n",
        "#quantas calorias ele queimou no total por ano\n",
        "\n"
      ]
    },
    {
      "cell_type": "code",
      "execution_count": 4,
      "metadata": {
        "colab": {
          "base_uri": "https://localhost:8080/",
          "height": 183
        },
        "id": "dUKh7tdgTftY",
        "outputId": "5ea71ea4-b40c-4cc6-d819-5cd8a80b263d"
      },
      "outputs": [
        {
          "data": {
            "text/html": [
              "<div>\n",
              "<style scoped>\n",
              "    .dataframe tbody tr th:only-of-type {\n",
              "        vertical-align: middle;\n",
              "    }\n",
              "\n",
              "    .dataframe tbody tr th {\n",
              "        vertical-align: top;\n",
              "    }\n",
              "\n",
              "    .dataframe thead th {\n",
              "        text-align: right;\n",
              "    }\n",
              "</style>\n",
              "<table border=\"1\" class=\"dataframe\">\n",
              "  <thead>\n",
              "    <tr style=\"text-align: right;\">\n",
              "      <th></th>\n",
              "      <th>Activity Type</th>\n",
              "      <th>Date</th>\n",
              "      <th>Title</th>\n",
              "      <th>Distance</th>\n",
              "      <th>Calories</th>\n",
              "      <th>Time</th>\n",
              "      <th>Avg HR</th>\n",
              "      <th>Max HR</th>\n",
              "      <th>Avg Run Cadence</th>\n",
              "      <th>Max Run Cadence</th>\n",
              "      <th>Avg Pace</th>\n",
              "      <th>Best Pace</th>\n",
              "      <th>Elev Gain</th>\n",
              "      <th>Elev Loss</th>\n",
              "      <th>Avg Stride Length</th>\n",
              "      <th>Best Lap Time</th>\n",
              "      <th>Number of Laps</th>\n",
              "    </tr>\n",
              "  </thead>\n",
              "  <tbody>\n",
              "    <tr>\n",
              "      <th>0</th>\n",
              "      <td>Running</td>\n",
              "      <td>7/15/20 9:41</td>\n",
              "      <td>Cherry Hill Running</td>\n",
              "      <td>6.00</td>\n",
              "      <td>530</td>\n",
              "      <td>0:43:55</td>\n",
              "      <td>141</td>\n",
              "      <td>160</td>\n",
              "      <td>176</td>\n",
              "      <td>182</td>\n",
              "      <td>7:19</td>\n",
              "      <td>6:20</td>\n",
              "      <td>169</td>\n",
              "      <td>173</td>\n",
              "      <td>1.26</td>\n",
              "      <td>00:02.3</td>\n",
              "      <td>7</td>\n",
              "    </tr>\n",
              "    <tr>\n",
              "      <th>1</th>\n",
              "      <td>Running</td>\n",
              "      <td>7/14/20 17:45</td>\n",
              "      <td>Cherry Hill Running</td>\n",
              "      <td>6.50</td>\n",
              "      <td>587</td>\n",
              "      <td>0:47:04</td>\n",
              "      <td>144</td>\n",
              "      <td>160</td>\n",
              "      <td>172</td>\n",
              "      <td>182</td>\n",
              "      <td>7:14</td>\n",
              "      <td>6:35</td>\n",
              "      <td>183</td>\n",
              "      <td>187</td>\n",
              "      <td>1.29</td>\n",
              "      <td>03:32.7</td>\n",
              "      <td>7</td>\n",
              "    </tr>\n",
              "    <tr>\n",
              "      <th>2</th>\n",
              "      <td>Running</td>\n",
              "      <td>7/13/20 18:57</td>\n",
              "      <td>Cherry Hill Running</td>\n",
              "      <td>5.01</td>\n",
              "      <td>392</td>\n",
              "      <td>0:40:29</td>\n",
              "      <td>128</td>\n",
              "      <td>151</td>\n",
              "      <td>170</td>\n",
              "      <td>180</td>\n",
              "      <td>8:05</td>\n",
              "      <td>5:49</td>\n",
              "      <td>124</td>\n",
              "      <td>124</td>\n",
              "      <td>1.17</td>\n",
              "      <td>00:04.1</td>\n",
              "      <td>6</td>\n",
              "    </tr>\n",
              "    <tr>\n",
              "      <th>3</th>\n",
              "      <td>Running</td>\n",
              "      <td>7/12/20 18:44</td>\n",
              "      <td>Cherry Hill Running</td>\n",
              "      <td>7.01</td>\n",
              "      <td>633</td>\n",
              "      <td>0:52:55</td>\n",
              "      <td>142</td>\n",
              "      <td>157</td>\n",
              "      <td>172</td>\n",
              "      <td>180</td>\n",
              "      <td>7:33</td>\n",
              "      <td>5:00</td>\n",
              "      <td>215</td>\n",
              "      <td>219</td>\n",
              "      <td>1.24</td>\n",
              "      <td>00:05.1</td>\n",
              "      <td>8</td>\n",
              "    </tr>\n",
              "    <tr>\n",
              "      <th>4</th>\n",
              "      <td>Running</td>\n",
              "      <td>7/11/20 19:35</td>\n",
              "      <td>Cherry Hill Running</td>\n",
              "      <td>5.19</td>\n",
              "      <td>419</td>\n",
              "      <td>0:41:35</td>\n",
              "      <td>129</td>\n",
              "      <td>143</td>\n",
              "      <td>170</td>\n",
              "      <td>178</td>\n",
              "      <td>8:01</td>\n",
              "      <td>6:48</td>\n",
              "      <td>76</td>\n",
              "      <td>80</td>\n",
              "      <td>1.18</td>\n",
              "      <td>01:27.1</td>\n",
              "      <td>6</td>\n",
              "    </tr>\n",
              "  </tbody>\n",
              "</table>\n",
              "</div>"
            ],
            "text/plain": [
              "  Activity Type           Date                Title  Distance Calories  \\\n",
              "0       Running   7/15/20 9:41  Cherry Hill Running      6.00      530   \n",
              "1       Running  7/14/20 17:45  Cherry Hill Running      6.50      587   \n",
              "2       Running  7/13/20 18:57  Cherry Hill Running      5.01      392   \n",
              "3       Running  7/12/20 18:44  Cherry Hill Running      7.01      633   \n",
              "4       Running  7/11/20 19:35  Cherry Hill Running      5.19      419   \n",
              "\n",
              "      Time Avg HR Max HR Avg Run Cadence Max Run Cadence Avg Pace Best Pace  \\\n",
              "0  0:43:55    141    160             176             182     7:19      6:20   \n",
              "1  0:47:04    144    160             172             182     7:14      6:35   \n",
              "2  0:40:29    128    151             170             180     8:05      5:49   \n",
              "3  0:52:55    142    157             172             180     7:33      5:00   \n",
              "4  0:41:35    129    143             170             178     8:01      6:48   \n",
              "\n",
              "  Elev Gain Elev Loss  Avg Stride Length Best Lap Time  Number of Laps  \n",
              "0       169       173               1.26       00:02.3               7  \n",
              "1       183       187               1.29       03:32.7               7  \n",
              "2       124       124               1.17       00:04.1               6  \n",
              "3       215       219               1.24       00:05.1               8  \n",
              "4        76        80               1.18       01:27.1               6  "
            ]
          },
          "execution_count": 4,
          "metadata": {},
          "output_type": "execute_result"
        }
      ],
      "source": [
        "df = pd.read_csv('https://raw.githubusercontent.com/guilhermevicente11/running_analise/main/activity_log.csv')\n",
        "df.head(5)\n"
      ]
    },
    {
      "cell_type": "code",
      "execution_count": 33,
      "metadata": {},
      "outputs": [
        {
          "data": {
            "text/html": [
              "<div>\n",
              "<style scoped>\n",
              "    .dataframe tbody tr th:only-of-type {\n",
              "        vertical-align: middle;\n",
              "    }\n",
              "\n",
              "    .dataframe tbody tr th {\n",
              "        vertical-align: top;\n",
              "    }\n",
              "\n",
              "    .dataframe thead th {\n",
              "        text-align: right;\n",
              "    }\n",
              "</style>\n",
              "<table border=\"1\" class=\"dataframe\">\n",
              "  <thead>\n",
              "    <tr style=\"text-align: right;\">\n",
              "      <th></th>\n",
              "      <th>Distance</th>\n",
              "      <th>Time</th>\n",
              "      <th>Avg Stride Length</th>\n",
              "      <th>Number of Laps</th>\n",
              "    </tr>\n",
              "  </thead>\n",
              "  <tbody>\n",
              "    <tr>\n",
              "      <th>Distance</th>\n",
              "      <td>1.000000</td>\n",
              "      <td>-0.187411</td>\n",
              "      <td>-0.131195</td>\n",
              "      <td>0.935299</td>\n",
              "    </tr>\n",
              "    <tr>\n",
              "      <th>Time</th>\n",
              "      <td>-0.187411</td>\n",
              "      <td>1.000000</td>\n",
              "      <td>0.288562</td>\n",
              "      <td>-0.186377</td>\n",
              "    </tr>\n",
              "    <tr>\n",
              "      <th>Avg Stride Length</th>\n",
              "      <td>-0.131195</td>\n",
              "      <td>0.288562</td>\n",
              "      <td>1.000000</td>\n",
              "      <td>0.081777</td>\n",
              "    </tr>\n",
              "    <tr>\n",
              "      <th>Number of Laps</th>\n",
              "      <td>0.935299</td>\n",
              "      <td>-0.186377</td>\n",
              "      <td>0.081777</td>\n",
              "      <td>1.000000</td>\n",
              "    </tr>\n",
              "  </tbody>\n",
              "</table>\n",
              "</div>"
            ],
            "text/plain": [
              "                   Distance      Time  Avg Stride Length  Number of Laps\n",
              "Distance           1.000000 -0.187411          -0.131195        0.935299\n",
              "Time              -0.187411  1.000000           0.288562       -0.186377\n",
              "Avg Stride Length -0.131195  0.288562           1.000000        0.081777\n",
              "Number of Laps     0.935299 -0.186377           0.081777        1.000000"
            ]
          },
          "execution_count": 33,
          "metadata": {},
          "output_type": "execute_result"
        }
      ],
      "source": [
        "df.corr()"
      ]
    },
    {
      "cell_type": "code",
      "execution_count": 9,
      "metadata": {},
      "outputs": [],
      "source": [
        "df['Date'] = pd.to_datetime(df['Date'])\n"
      ]
    },
    {
      "cell_type": "code",
      "execution_count": null,
      "metadata": {},
      "outputs": [],
      "source": [
        "df['Time'].unique()"
      ]
    },
    {
      "cell_type": "code",
      "execution_count": null,
      "metadata": {},
      "outputs": [],
      "source": [
        "ano2020 = df['Date'].dt.year == 2020\n",
        "df[ano2020]"
      ]
    },
    {
      "cell_type": "code",
      "execution_count": null,
      "metadata": {},
      "outputs": [],
      "source": [
        "df['Date']"
      ]
    },
    {
      "cell_type": "code",
      "execution_count": 24,
      "metadata": {},
      "outputs": [],
      "source": [
        "df['Time'] = pd.to_datetime(df['Time']).dt.hour * 60 + pd.to_datetime(df['Time']).dt.minute\n"
      ]
    },
    {
      "cell_type": "code",
      "execution_count": 29,
      "metadata": {},
      "outputs": [
        {
          "data": {
            "text/plain": [
              "18.01"
            ]
          },
          "execution_count": 29,
          "metadata": {},
          "output_type": "execute_result"
        }
      ],
      "source": [
        "df[['Time']] =="
      ]
    },
    {
      "cell_type": "code",
      "execution_count": null,
      "metadata": {
        "id": "s_rhZnDFQFJ6"
      },
      "outputs": [],
      "source": [
        "#recordes pessoais por ano(distancia)\n",
        "#distancia percorrida por ano()\n",
        "#total calorias gastas por ano\n",
        "#distancia total por ano\n",
        "#serie temporal por mês em cada ano (2018,2019,2020)\n",
        "#\n",
        "\n",
        "\n",
        "\n"
      ]
    },
    {
      "cell_type": "code",
      "execution_count": null,
      "metadata": {},
      "outputs": [],
      "source": []
    }
  ],
  "metadata": {
    "colab": {
      "authorship_tag": "ABX9TyPQxMpe68qP2220YdXlAjPA",
      "include_colab_link": true,
      "provenance": []
    },
    "kernelspec": {
      "display_name": "Python 3.9.12 ('base')",
      "language": "python",
      "name": "python3"
    },
    "language_info": {
      "codemirror_mode": {
        "name": "ipython",
        "version": 3
      },
      "file_extension": ".py",
      "mimetype": "text/x-python",
      "name": "python",
      "nbconvert_exporter": "python",
      "pygments_lexer": "ipython3",
      "version": "3.9.12"
    },
    "vscode": {
      "interpreter": {
        "hash": "9ce49f042908f9ee1cacdae281829bb413cc0796f56e9a52cc15722728dab4bb"
      }
    }
  },
  "nbformat": 4,
  "nbformat_minor": 0
}
